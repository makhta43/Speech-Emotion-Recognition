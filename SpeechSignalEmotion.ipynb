{
 "cells": [
  {
   "cell_type": "markdown",
   "id": "8deb21c1",
   "metadata": {},
   "source": [
    "# This file will create an LSTM model trained on the speech signals from audio files"
   ]
  },
  {
   "cell_type": "code",
   "execution_count": 1,
   "id": "49450a1e",
   "metadata": {},
   "outputs": [],
   "source": [
    "# Imports\n",
    "import os\n",
    "from os import environ\n",
    "from pyAudioAnalysis import ShortTermFeatures as aF\n",
    "from pyAudioAnalysis import audioBasicIO as aIO \n",
    "import seaborn as sns\n",
    "import numpy as np \n",
    "import IPython\n",
    "from IPython.display import Audio\n",
    "import matplotlib.pyplot as plt\n",
    "import re\n",
    "import pandas as pd\n",
    "import librosa\n",
    "import librosa.display\n",
    "from keras.models import Sequential\n",
    "from keras.layers import Dense, LSTM, Dropout\n",
    "from sklearn.preprocessing import OneHotEncoder\n",
    "\n",
    "def suppress_qt_warnings():\n",
    "    environ[\"QT_DEVICE_PIXEL_RATIO\"] = \"0\"\n",
    "    environ[\"QT_AUTO_SCREEN_SCALE_FACTOR\"] = \"1\"\n",
    "    environ[\"QT_SCREEN_SCALE_FACTORS\"] = \"1\"\n",
    "    environ[\"QT_SCALE_FACTOR\"] = \"1\"\n",
    "\n",
    "paths = []\n",
    "labels = []"
   ]
  },
  {
   "cell_type": "markdown",
   "id": "4516b1c6",
   "metadata": {},
   "source": [
    "# Choose one of the 3 code blocks below. NOT ALL 3\n",
    "\n",
    "## 1: Small subsample of dataset for testing"
   ]
  },
  {
   "cell_type": "code",
   "execution_count": null,
   "id": "08c34d07",
   "metadata": {},
   "outputs": [],
   "source": [
    "dirStr = \"Datasets/SAVEE/KL/\"\n",
    "directory = os.fsencode(dirStr)\n",
    "\n",
    "for file in os.listdir(directory):\n",
    "    filename = os.fsdecode(file)\n",
    "    paths.append(dirStr + filename)\n",
    "    res = re.findall('([a-zA-Z ]*)\\d*.*', filename)\n",
    "    if res[0] == \"a\":\n",
    "        labels.append(\"anger\")\n",
    "    if res[0] == \"d\":\n",
    "        labels.append(\"disgust\")\n",
    "    if res[0] == \"f\":\n",
    "        labels.append(\"fear\")\n",
    "    if res[0] == \"h\":\n",
    "        labels.append(\"happiness\")\n",
    "    if res[0] == \"n\":\n",
    "        labels.append(\"neutral\")\n",
    "    if res[0] == \"sa\":\n",
    "        labels.append(\"sadness\")\n",
    "    if res[0] == \"su\":\n",
    "        labels.append(\"surprise\")"
   ]
  },
  {
   "cell_type": "markdown",
   "id": "63eacca5",
   "metadata": {},
   "source": [
    "## 2: All datasets combined (Best results)"
   ]
  },
  {
   "cell_type": "code",
   "execution_count": 2,
   "id": "a8c15cff",
   "metadata": {},
   "outputs": [],
   "source": [
    "directory = \"Datasets/\"\n",
    "for root, subdirectories, files in os.walk(directory):\n",
    "    for subdirectory in subdirectories:\n",
    "        os.path.join(root, subdirectory)\n",
    "    for file in files:\n",
    "        if file.endswith(\".wav\"):\n",
    "            filepath = os.path.join(root, file)\n",
    "            splitpath = filepath.split(\"\\\\\")\n",
    "            splitpath = splitpath[len(splitpath)-1]\n",
    "            try:\n",
    "                rsplit = \"\"\n",
    "                rsplit = splitpath.split(\"-\")[2]\n",
    "            except:{}\n",
    "            try:\n",
    "                ssplit = \"\"\n",
    "                ssplit = re.findall('([a-zA-Z ]*)\\d*.*', splitpath)[0]\n",
    "            except:{}\n",
    "            try:\n",
    "                tsplit = \"\"\n",
    "                tsplit = splitpath.split(\"_\")[2]\n",
    "                tsplit = tsplit.split(\".\")[0]\n",
    "            except:{}\n",
    "            if rsplit == \"05\" or ssplit == \"a\" or tsplit == \"angry\":\n",
    "                labels.append(\"anger\")\n",
    "                paths.append(filepath)\n",
    "            if rsplit == \"07\" or ssplit == \"d\" or tsplit == \"disgust\":\n",
    "                labels.append(\"disgust\")\n",
    "                paths.append(filepath)\n",
    "            if rsplit == \"06\" or ssplit == \"f\" or tsplit == \"fear\":\n",
    "                labels.append(\"fear\")\n",
    "                paths.append(filepath)\n",
    "            if rsplit == \"03\" or ssplit == \"h\" or tsplit == \"happy\":\n",
    "                labels.append(\"happiness\")\n",
    "                paths.append(filepath)\n",
    "            if rsplit == \"01\" or ssplit == \"n\" or tsplit == \"neutral\":\n",
    "                labels.append(\"neutral\")\n",
    "                paths.append(filepath)\n",
    "            if rsplit == \"04\" or ssplit == \"sa\" or tsplit == \"sad\":\n",
    "                labels.append(\"sadness\")\n",
    "                paths.append(filepath)\n",
    "            if rsplit == \"08\" or ssplit == \"su\" or tsplit == \"ps\":\n",
    "                labels.append(\"surprise\")\n",
    "                paths.append(filepath)"
   ]
  },
  {
   "cell_type": "markdown",
   "id": "1d2b9519",
   "metadata": {},
   "source": [
    "## 3: All datasets combined and split into gendered emotion e.g. anger_female"
   ]
  },
  {
   "cell_type": "code",
   "execution_count": 2,
   "id": "91798320",
   "metadata": {},
   "outputs": [],
   "source": [
    "directory = \"Datasets/\"\n",
    "\n",
    "# Function specifically for the RAVDESS dataset\n",
    "# Checks if the actor is female or male\n",
    "def isMale(path):\n",
    "    try:\n",
    "        split1 = path.split(\"\\\\\")[1]\n",
    "        split2 = split1.split(\"_\")[1]\n",
    "        actornum = (int)(split2[0:2])\n",
    "        #female\n",
    "        if (actornum % 2) == 0:\n",
    "            return False\n",
    "        #male\n",
    "        else:\n",
    "            return True\n",
    "    except: {}       \n",
    "            \n",
    "for root, subdirectories, files in os.walk(directory):\n",
    "    for file in files:\n",
    "        if file.endswith(\".wav\"):\n",
    "            filepath = os.path.join(root, file)\n",
    "            ravMale = isMale(filepath)\n",
    "            splitpath = filepath.split(\"\\\\\")\n",
    "            splitpath = splitpath[len(splitpath)-1]\n",
    "            try:\n",
    "                rsplit = \"\"\n",
    "                rsplit = splitpath.split(\"-\")[2]\n",
    "            except:{}\n",
    "            try:\n",
    "                ssplit = \"\"\n",
    "                ssplit = re.findall('([a-zA-Z ]*)\\d*.*', splitpath)[0]\n",
    "            except:{}\n",
    "            try:\n",
    "                tsplit = \"\"\n",
    "                tsplit = splitpath.split(\"_\")[2]\n",
    "                tsplit = tsplit.split(\".\")[0]\n",
    "            except:{}\n",
    "            if (rsplit == \"05\" and ravMale) or ssplit == \"a\":\n",
    "                labels.append(\"anger_male\")\n",
    "                paths.append(filepath)\n",
    "            if (rsplit == \"07\" and ravMale) or ssplit == \"d\":\n",
    "                labels.append(\"disgust_male\")\n",
    "                paths.append(filepath)\n",
    "            if (rsplit == \"06\" and ravMale) or ssplit == \"f\":\n",
    "                labels.append(\"fear_male\")\n",
    "                paths.append(filepath)\n",
    "            if (rsplit == \"03\" and ravMale) or ssplit == \"h\":\n",
    "                labels.append(\"happiness_male\")\n",
    "                paths.append(filepath)\n",
    "            if (rsplit == \"01\" and ravMale) or ssplit == \"n\":\n",
    "                labels.append(\"neutral_male\")\n",
    "                paths.append(filepath)\n",
    "            if (rsplit == \"04\" and ravMale) or ssplit == \"sa\":\n",
    "                labels.append(\"sadness_male\")\n",
    "                paths.append(filepath)\n",
    "            if (rsplit == \"08\" and ravMale) or ssplit == \"su\":\n",
    "                labels.append(\"surprise_male\")\n",
    "                paths.append(filepath)\n",
    "            if (rsplit == \"05\" and not ravMale) or tsplit == \"angry\":\n",
    "                labels.append(\"anger_female\")\n",
    "                paths.append(filepath)\n",
    "            if (rsplit == \"07\" and not ravMale) or tsplit == \"disgust\":\n",
    "                labels.append(\"disgust_female\")\n",
    "                paths.append(filepath)\n",
    "            if (rsplit == \"06\" and not ravMale) or tsplit == \"fear\":\n",
    "                labels.append(\"fear_female\")\n",
    "                paths.append(filepath)\n",
    "            if (rsplit == \"03\" and not ravMale) or tsplit == \"happy\":\n",
    "                labels.append(\"happiness_female\")\n",
    "                paths.append(filepath)\n",
    "            if (rsplit == \"01\" and not ravMale) or tsplit == \"neutral\":\n",
    "                labels.append(\"neutral_female\")\n",
    "                paths.append(filepath)\n",
    "            if (rsplit == \"04\" and not ravMale) or tsplit == \"sad\":\n",
    "                labels.append(\"sadness_female\")\n",
    "                paths.append(filepath)\n",
    "            if (rsplit == \"08\" and not ravMale) or tsplit == \"ps\":\n",
    "                labels.append(\"surprise_female\")\n",
    "                paths.append(filepath)"
   ]
  },
  {
   "cell_type": "markdown",
   "id": "32ff85d3",
   "metadata": {},
   "source": [
    "## Combine the path and label lists into a dataframe"
   ]
  },
  {
   "cell_type": "code",
   "execution_count": 67,
   "id": "5db952db",
   "metadata": {},
   "outputs": [
    {
     "data": {
      "text/html": [
       "<div>\n",
       "<style scoped>\n",
       "    .dataframe tbody tr th:only-of-type {\n",
       "        vertical-align: middle;\n",
       "    }\n",
       "\n",
       "    .dataframe tbody tr th {\n",
       "        vertical-align: top;\n",
       "    }\n",
       "\n",
       "    .dataframe thead th {\n",
       "        text-align: right;\n",
       "    }\n",
       "</style>\n",
       "<table border=\"1\" class=\"dataframe\">\n",
       "  <thead>\n",
       "    <tr style=\"text-align: right;\">\n",
       "      <th></th>\n",
       "      <th>path</th>\n",
       "      <th>emotion</th>\n",
       "    </tr>\n",
       "  </thead>\n",
       "  <tbody>\n",
       "    <tr>\n",
       "      <th>1956</th>\n",
       "      <td>Datasets/TESS\\OAF_ditch_neutral.wav</td>\n",
       "      <td>neutral</td>\n",
       "    </tr>\n",
       "    <tr>\n",
       "      <th>3889</th>\n",
       "      <td>Datasets/TESS\\YAF_nag_ps.wav</td>\n",
       "      <td>surprise</td>\n",
       "    </tr>\n",
       "    <tr>\n",
       "      <th>3602</th>\n",
       "      <td>Datasets/TESS\\YAF_jar_ps.wav</td>\n",
       "      <td>surprise</td>\n",
       "    </tr>\n",
       "    <tr>\n",
       "      <th>707</th>\n",
       "      <td>Datasets/RAVDESS\\Actor_14\\03-01-06-01-02-02-14...</td>\n",
       "      <td>fear</td>\n",
       "    </tr>\n",
       "    <tr>\n",
       "      <th>968</th>\n",
       "      <td>Datasets/RAVDESS\\Actor_19\\03-01-06-02-01-01-19...</td>\n",
       "      <td>fear</td>\n",
       "    </tr>\n",
       "  </tbody>\n",
       "</table>\n",
       "</div>"
      ],
      "text/plain": [
       "                                                   path   emotion\n",
       "1956                Datasets/TESS\\OAF_ditch_neutral.wav   neutral\n",
       "3889                       Datasets/TESS\\YAF_nag_ps.wav  surprise\n",
       "3602                       Datasets/TESS\\YAF_jar_ps.wav  surprise\n",
       "707   Datasets/RAVDESS\\Actor_14\\03-01-06-01-02-02-14...      fear\n",
       "968   Datasets/RAVDESS\\Actor_19\\03-01-06-02-01-01-19...      fear"
      ]
     },
     "execution_count": 67,
     "metadata": {},
     "output_type": "execute_result"
    }
   ],
   "source": [
    "df = pd.DataFrame()\n",
    "df['path'] = paths\n",
    "df['emotion'] = labels\n",
    "df = df.sample(frac = 1)\n",
    "df.head()"
   ]
  },
  {
   "cell_type": "markdown",
   "id": "6e922ec1",
   "metadata": {},
   "source": [
    "### functions to create graphs easier"
   ]
  },
  {
   "cell_type": "code",
   "execution_count": 4,
   "id": "7fc70b6a",
   "metadata": {},
   "outputs": [],
   "source": [
    "def waveplot(data, sr, emotion):\n",
    "    plt.title(emotion)\n",
    "    plt.ylabel('dB')\n",
    "    librosa.display.waveplot(data, sr)\n",
    "    plt.show()\n",
    "\n",
    "def spectogram(data, sr, emotion):\n",
    "    suppress_qt_warnings()\n",
    "    x = librosa.stft(data)\n",
    "    xdb = librosa.amplitude_to_db(np.abs(x))\n",
    "    plt.title(emotion)\n",
    "    librosa.display.specshow(xdb, sr=sr, x_axis='time', y_axis='hz')\n",
    "    plt.colorbar()\n",
    "    plt.show()"
   ]
  },
  {
   "cell_type": "markdown",
   "id": "a4891df0",
   "metadata": {},
   "source": [
    "### show graphs of the first 'surprise' .wav file in the dataframe list"
   ]
  },
  {
   "cell_type": "code",
   "execution_count": 5,
   "id": "e01ce1a6",
   "metadata": {
    "scrolled": true
   },
   "outputs": [
    {
     "data": {
      "image/png": "[encoded data removed]",
      "text/plain": [
       "<Figure size 432x288 with 2 Axes>"
      ]
     },
     "metadata": {
      "needs_background": "light"
     },
     "output_type": "display_data"
    },
    {
     "data": {
      "image/png": "[encoded data removed]",
      "text/plain": [
       "<Figure size 432x288 with 1 Axes>"
      ]
     },
     "metadata": {
      "needs_background": "light"
     },
     "output_type": "display_data"
    }
   ],
   "source": [
    "# emotion = 'surprise_male'\n",
    "emotion = 'surprise'\n",
    "path = df['path'][df['emotion']==emotion].values[0]\n",
    "data, sampling_rate = librosa.load(path)\n",
    "spectogram(data, sampling_rate, emotion)\n",
    "waveplot(data, sampling_rate, emotion)"
   ]
  },
  {
   "cell_type": "markdown",
   "id": "189c75f0",
   "metadata": {},
   "source": [
    "# Function for feature extraction"
   ]
  },
  {
   "cell_type": "code",
   "execution_count": 54,
   "id": "20805283",
   "metadata": {},
   "outputs": [
    {
     "data": {
      "text/plain": [
       "array([-6.7043011e+02,  6.5463234e+01,  4.8822185e-01,  1.5117002e+01,\n",
       "        8.7833881e+00,  1.0563951e+00, -4.2406769e+00, -3.1930442e+00,\n",
       "       -1.3346264e+01, -2.9177351e+00,  5.3375721e-01, -3.2262831e+00,\n",
       "        2.0105295e+00, -4.0300112e+00,  1.9380878e-01,  1.2353787e+00,\n",
       "       -5.1382542e+00, -1.7780107e+00, -1.9244382e+00, -7.4367231e-01,\n",
       "       -7.3666177e+00, -3.3326349e-01, -3.0078795e+00, -5.0382442e+00,\n",
       "       -2.2274773e+00, -6.9816226e-01, -5.9582076e+00,  5.5907124e-01,\n",
       "       -2.7585127e+00,  3.8554946e-01, -2.5434520e+00, -2.3236392e+00,\n",
       "       -3.3210135e+00, -2.0330336e+00, -3.9490018e+00, -1.6773353e+00,\n",
       "       -1.3858986e+00, -2.0310068e+00, -4.2552686e+00, -1.6869317e+00,\n",
       "       -4.9827566e+00, -6.1422491e-01, -3.2716122e+00, -2.9301336e+00,\n",
       "       -3.5054467e+00, -2.0374177e+00, -3.7777433e+00, -2.2589594e-01,\n",
       "       -3.3432145e+00, -6.6649497e-01, -1.9549793e+00, -1.4666587e+00,\n",
       "       -2.2266266e+00,  1.7620975e-01, -1.1741118e+00, -5.6873733e-01,\n",
       "       -2.0569532e+00, -1.6501256e+00, -1.3276781e+00, -7.8123420e-02],\n",
       "      dtype=float32)"
      ]
     },
     "execution_count": 54,
     "metadata": {},
     "output_type": "execute_result"
    }
   ],
   "source": [
    "def extract_mfcc(filename):\n",
    "    y, sr = librosa.load(filename, duration=12, offset=0.5)\n",
    "    mfcc = np.mean(librosa.feature.mfcc(y=y, sr=sr, n_mfcc=40).T, axis=0)\n",
    "    return mfcc\n",
    "    \n",
    "#Extract the mfcc's of a single file to test\n",
    "extract_mfcc(df['path'][0])"
   ]
  },
  {
   "cell_type": "markdown",
   "id": "c22275ac",
   "metadata": {},
   "source": [
    "# Extract mfcc's of entire dataset"
   ]
  },
  {
   "cell_type": "code",
   "execution_count": 55,
   "id": "2c033fec",
   "metadata": {},
   "outputs": [],
   "source": [
    "x_mfcc = df['path'].apply(lambda x: extract_mfcc(x))"
   ]
  },
  {
   "cell_type": "code",
   "execution_count": 56,
   "id": "c33b263e",
   "metadata": {},
   "outputs": [
    {
     "data": {
      "text/plain": [
       "(4528, 60, 1)"
      ]
     },
     "execution_count": 56,
     "metadata": {},
     "output_type": "execute_result"
    }
   ],
   "source": [
    "x = [x for x in x_mfcc]\n",
    "x = np.array(x)\n",
    "x = np.expand_dims(x, -1)\n",
    "x.shape"
   ]
  },
  {
   "cell_type": "markdown",
   "id": "ac939afc",
   "metadata": {},
   "source": [
    "## Encode the emotion labels for each file"
   ]
  },
  {
   "cell_type": "code",
   "execution_count": 57,
   "id": "c845d624",
   "metadata": {},
   "outputs": [],
   "source": [
    "enc = OneHotEncoder()\n",
    "y = enc.fit_transform(df[['emotion']]).toarray()"
   ]
  },
  {
   "cell_type": "code",
   "execution_count": 59,
   "id": "69754baf",
   "metadata": {},
   "outputs": [
    {
     "data": {
      "text/plain": [
       "(4528, 1)"
      ]
     },
     "execution_count": 59,
     "metadata": {},
     "output_type": "execute_result"
    }
   ],
   "source": [
    "from sklearn.model_selection import train_test_split\n",
    "emoti = df[['emotion']]\n",
    "emoti.shape\n",
    "X_train,X_test,y_train,y_test = train_test_split(x, y, test_size=0.3)\n",
    "emoti.shape"
   ]
  },
  {
   "cell_type": "markdown",
   "id": "d94654ab",
   "metadata": {},
   "source": [
    "# Create LSTM Model"
   ]
  },
  {
   "cell_type": "code",
   "execution_count": 60,
   "id": "4b15d442",
   "metadata": {},
   "outputs": [
    {
     "name": "stdout",
     "output_type": "stream",
     "text": [
      "Model: \"sequential_11\"\n",
      "_________________________________________________________________\n",
      " Layer (type)                Output Shape              Param #   \n",
      "=================================================================\n",
      " lstm_11 (LSTM)              (None, 123)               61500     \n",
      "                                                                 \n",
      " dense_33 (Dense)            (None, 64)                7936      \n",
      "                                                                 \n",
      " dropout_22 (Dropout)        (None, 64)                0         \n",
      "                                                                 \n",
      " dense_34 (Dense)            (None, 32)                2080      \n",
      "                                                                 \n",
      " dropout_23 (Dropout)        (None, 32)                0         \n",
      "                                                                 \n",
      " dense_35 (Dense)            (None, 7)                 231       \n",
      "                                                                 \n",
      "=================================================================\n",
      "Total params: 71,747\n",
      "Trainable params: 71,747\n",
      "Non-trainable params: 0\n",
      "_________________________________________________________________\n"
     ]
    }
   ],
   "source": [
    "model = Sequential([\n",
    "    LSTM(123, return_sequences=False, input_shape=(40, 1)),\n",
    "    Dense(64, activation='relu'),\n",
    "    Dropout(0.2),\n",
    "    Dense(32, activation='relu'),\n",
    "    Dropout(0.2),\n",
    "    Dense(7, activation='softmax'),\n",
    "])\n",
    "model.compile(loss='categorical_crossentropy', optimizer='adam', metrics=['accuracy'])\n",
    "model.summary()"
   ]
  },
  {
   "cell_type": "markdown",
   "id": "20ef5897",
   "metadata": {},
   "source": [
    "## Train the model"
   ]
  },
  {
   "cell_type": "code",
   "execution_count": 61,
   "id": "05a1c7b2",
   "metadata": {
    "scrolled": true
   },
   "outputs": [
    {
     "name": "stdout",
     "output_type": "stream",
     "text": [
      "Epoch 1/30\n",
      "6/6 [==============================] - 5s 467ms/step - loss: 1.9205 - accuracy: 0.1940 - val_loss: 1.8899 - val_accuracy: 0.2224\n",
      "Epoch 2/30\n",
      "6/6 [==============================] - 2s 377ms/step - loss: 1.8625 - accuracy: 0.2331 - val_loss: 1.8302 - val_accuracy: 0.2268\n",
      "Epoch 3/30\n",
      "6/6 [==============================] - 2s 375ms/step - loss: 1.8003 - accuracy: 0.2548 - val_loss: 1.7700 - val_accuracy: 0.2517\n",
      "Epoch 4/30\n",
      "6/6 [==============================] - 2s 377ms/step - loss: 1.7319 - accuracy: 0.2747 - val_loss: 1.6900 - val_accuracy: 0.3002\n",
      "Epoch 5/30\n",
      "6/6 [==============================] - 2s 373ms/step - loss: 1.6565 - accuracy: 0.3380 - val_loss: 1.5941 - val_accuracy: 0.3996\n",
      "Epoch 6/30\n",
      "6/6 [==============================] - 2s 380ms/step - loss: 1.5752 - accuracy: 0.3954 - val_loss: 1.4949 - val_accuracy: 0.4349\n",
      "Epoch 7/30\n",
      "6/6 [==============================] - 2s 372ms/step - loss: 1.4645 - accuracy: 0.4591 - val_loss: 1.3703 - val_accuracy: 0.4834\n",
      "Epoch 8/30\n",
      "6/6 [==============================] - 2s 379ms/step - loss: 1.3757 - accuracy: 0.4746 - val_loss: 1.3795 - val_accuracy: 0.4619\n",
      "Epoch 9/30\n",
      "6/6 [==============================] - 2s 375ms/step - loss: 1.3109 - accuracy: 0.5022 - val_loss: 1.2655 - val_accuracy: 0.5359\n",
      "Epoch 10/30\n",
      "6/6 [==============================] - 2s 378ms/step - loss: 1.2527 - accuracy: 0.5247 - val_loss: 1.1489 - val_accuracy: 0.5784\n",
      "Epoch 11/30\n",
      "6/6 [==============================] - 2s 365ms/step - loss: 1.1758 - accuracy: 0.5655 - val_loss: 1.0609 - val_accuracy: 0.6330\n",
      "Epoch 12/30\n",
      "6/6 [==============================] - 2s 374ms/step - loss: 1.0864 - accuracy: 0.6038 - val_loss: 1.0194 - val_accuracy: 0.6551\n",
      "Epoch 13/30\n",
      "6/6 [==============================] - 2s 376ms/step - loss: 1.0282 - accuracy: 0.6259 - val_loss: 0.9799 - val_accuracy: 0.6529\n",
      "Epoch 14/30\n",
      "6/6 [==============================] - 2s 373ms/step - loss: 0.9801 - accuracy: 0.6491 - val_loss: 0.9678 - val_accuracy: 0.6595\n",
      "Epoch 15/30\n",
      "6/6 [==============================] - 2s 377ms/step - loss: 0.9589 - accuracy: 0.6609 - val_loss: 0.9640 - val_accuracy: 0.6562\n",
      "Epoch 16/30\n",
      "6/6 [==============================] - 2s 378ms/step - loss: 0.9260 - accuracy: 0.6734 - val_loss: 0.9253 - val_accuracy: 0.6661\n",
      "Epoch 17/30\n",
      "6/6 [==============================] - 2s 372ms/step - loss: 0.9227 - accuracy: 0.6686 - val_loss: 0.9065 - val_accuracy: 0.6634\n",
      "Epoch 18/30\n",
      "6/6 [==============================] - 2s 372ms/step - loss: 0.8698 - accuracy: 0.6944 - val_loss: 0.8684 - val_accuracy: 0.6755\n",
      "Epoch 19/30\n",
      "6/6 [==============================] - 2s 377ms/step - loss: 0.8266 - accuracy: 0.6966 - val_loss: 0.8588 - val_accuracy: 0.6794\n",
      "Epoch 20/30\n",
      "6/6 [==============================] - 2s 377ms/step - loss: 0.8141 - accuracy: 0.7058 - val_loss: 0.8452 - val_accuracy: 0.6827\n",
      "Epoch 21/30\n",
      "6/6 [==============================] - 2s 373ms/step - loss: 0.7989 - accuracy: 0.7154 - val_loss: 0.8386 - val_accuracy: 0.6788\n",
      "Epoch 22/30\n",
      "6/6 [==============================] - 2s 375ms/step - loss: 0.8059 - accuracy: 0.7117 - val_loss: 0.8251 - val_accuracy: 0.6843\n",
      "Epoch 23/30\n",
      "6/6 [==============================] - 2s 373ms/step - loss: 0.7784 - accuracy: 0.7132 - val_loss: 0.8605 - val_accuracy: 0.6777\n",
      "Epoch 24/30\n",
      "6/6 [==============================] - 2s 392ms/step - loss: 0.7744 - accuracy: 0.7132 - val_loss: 0.8238 - val_accuracy: 0.6843\n",
      "Epoch 25/30\n",
      "6/6 [==============================] - 2s 378ms/step - loss: 0.7600 - accuracy: 0.7183 - val_loss: 0.8071 - val_accuracy: 0.6943\n",
      "Epoch 26/30\n",
      "6/6 [==============================] - 2s 389ms/step - loss: 0.7412 - accuracy: 0.7286 - val_loss: 0.8211 - val_accuracy: 0.6948\n",
      "Epoch 27/30\n",
      "6/6 [==============================] - 2s 385ms/step - loss: 0.7457 - accuracy: 0.7231 - val_loss: 0.8104 - val_accuracy: 0.6959\n",
      "Epoch 28/30\n",
      "6/6 [==============================] - 2s 378ms/step - loss: 0.7352 - accuracy: 0.7239 - val_loss: 0.8092 - val_accuracy: 0.6948\n",
      "Epoch 29/30\n",
      "6/6 [==============================] - 2s 406ms/step - loss: 0.7222 - accuracy: 0.7272 - val_loss: 0.8012 - val_accuracy: 0.6981\n",
      "Epoch 30/30\n",
      "6/6 [==============================] - 2s 387ms/step - loss: 0.7008 - accuracy: 0.7430 - val_loss: 0.8092 - val_accuracy: 0.6926\n"
     ]
    }
   ],
   "source": [
    "generations = 30\n",
    "# history = model.fit(x, y, validation_split=0.2, epochs=generations, batch_size=512, shuffle=True)\n",
    "history = model.fit(x=X_train, y=y_train, validation_data=(X_test, y_test), epochs=generations, batch_size=512, shuffle=True, use_multiprocessing=True)"
   ]
  },
  {
   "cell_type": "markdown",
   "id": "06dc1575",
   "metadata": {},
   "source": [
    "## Plot accuracy of model"
   ]
  },
  {
   "cell_type": "code",
   "execution_count": 62,
   "id": "6432d054",
   "metadata": {},
   "outputs": [
    {
     "data": {
      "image/png": "[encoded data removed]",
      "text/plain": [
       "<Figure size 432x288 with 1 Axes>"
      ]
     },
     "metadata": {
      "needs_background": "light"
     },
     "output_type": "display_data"
    }
   ],
   "source": [
    "epochs = list(range(generations))\n",
    "accuracy = history.history['accuracy']\n",
    "val_accuracy = history.history['val_accuracy']\n",
    "plt.plot(epochs, accuracy, label='train accuracy')\n",
    "plt.plot(epochs, val_accuracy, label='value accuracy')\n",
    "plt.title('Accuracy')\n",
    "plt.xlabel('epochs')\n",
    "plt.ylabel('accuracy')\n",
    "plt.legend()\n",
    "plt.show()"
   ]
  },
  {
   "cell_type": "code",
   "execution_count": null,
   "id": "47e48fe5",
   "metadata": {
    "scrolled": false
   },
   "outputs": [],
   "source": [
    "# history.history['true_positives']"
   ]
  },
  {
   "cell_type": "markdown",
   "id": "03000200",
   "metadata": {},
   "source": [
    "# Save the model and encoder"
   ]
  },
  {
   "cell_type": "code",
   "execution_count": null,
   "id": "7546974d",
   "metadata": {},
   "outputs": [],
   "source": [
    "model.save('Models/GenderedAudioModel')\n",
    "# model.save('Models/AudioModel')\n",
    "\n",
    "import pickle \n",
    "file = open('Objects/encoder.obj', 'wb') \n",
    "pickle.dump(enc, file)"
   ]
  },
  {
   "cell_type": "markdown",
   "id": "c5efccb5",
   "metadata": {},
   "source": [
    "# Create a prediction of a single file using the model"
   ]
  },
  {
   "cell_type": "code",
   "execution_count": 56,
   "id": "09711337",
   "metadata": {},
   "outputs": [],
   "source": [
    "import keras\n",
    "model = keras.models.load_model('Models/AudioModel')"
   ]
  },
  {
   "cell_type": "code",
   "execution_count": 63,
   "id": "ddf9d277",
   "metadata": {},
   "outputs": [
    {
     "name": "stdout",
     "output_type": "stream",
     "text": [
      "(60, 1)\n",
      "1/1 [==============================] - 0s 402ms/step\n",
      "[[0.11094113 0.21399269 0.09409618 0.16316709 0.15228385 0.14620522\n",
      "  0.11931388]]\n"
     ]
    }
   ],
   "source": [
    "testthing = \"TestAudio/angry.wav\"\n",
    "mfcc = extract_mfcc(testthing)\n",
    "y = [y for y in mfcc]\n",
    "y = np.array(y)\n",
    "y = np.expand_dims(y, -1)\n",
    "print(y.shape)\n",
    "\n",
    "feature = pd.DataFrame(data=mfcc)\n",
    "feature = feature.stack().to_frame().T\n",
    "twodim = np.expand_dims(feature, axis=2)\n",
    "pred = model.predict(twodim, batch_size=32, verbose=1)\n",
    "print(pred)"
   ]
  },
  {
   "cell_type": "code",
   "execution_count": 64,
   "id": "3d261ec9",
   "metadata": {},
   "outputs": [
    {
     "data": {
      "text/plain": [
       "array([['disgust']], dtype=object)"
      ]
     },
     "execution_count": 64,
     "metadata": {},
     "output_type": "execute_result"
    }
   ],
   "source": [
    "# pred1 = pred.argmax(axis=1)\n",
    "# abc = pred1.astype(int).flatten()\n",
    "prediction = (enc.inverse_transform(pred))\n",
    "prediction"
   ]
  }
 ],
 "metadata": {
  "kernelspec": {
   "display_name": "Python 3 (ipykernel)",
   "language": "python",
   "name": "python3"
  },
  "language_info": {
   "codemirror_mode": {
    "name": "ipython",
    "version": 3
   },
   "file_extension": ".py",
   "mimetype": "text/x-python",
   "name": "python",
   "nbconvert_exporter": "python",
   "pygments_lexer": "ipython3",
   "version": "3.9.7"
  }
 },
 "nbformat": 4,
 "nbformat_minor": 5
}
