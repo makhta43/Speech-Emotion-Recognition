{
 "cells": [
  {
   "cell_type": "markdown",
   "id": "9e3294f1",
   "metadata": {},
   "source": [
    "# This file will create a randomForestTree model trained on the vectorized words from text\n",
    "### Import libraries and then load in the dataframe object containing the dataset"
   ]
  },
  {
   "cell_type": "code",
   "execution_count": 2,
   "id": "9f731b1b",
   "metadata": {},
   "outputs": [
    {
     "data": {
      "text/html": [
       "<div>\n",
       "<style scoped>\n",
       "    .dataframe tbody tr th:only-of-type {\n",
       "        vertical-align: middle;\n",
       "    }\n",
       "\n",
       "    .dataframe tbody tr th {\n",
       "        vertical-align: top;\n",
       "    }\n",
       "\n",
       "    .dataframe thead th {\n",
       "        text-align: right;\n",
       "    }\n",
       "</style>\n",
       "<table border=\"1\" class=\"dataframe\">\n",
       "  <thead>\n",
       "    <tr style=\"text-align: right;\">\n",
       "      <th></th>\n",
       "      <th>text</th>\n",
       "      <th>emotions</th>\n",
       "    </tr>\n",
       "  </thead>\n",
       "  <tbody>\n",
       "    <tr>\n",
       "      <th>30157</th>\n",
       "      <td>i was upset most of the time during my birthda...</td>\n",
       "      <td>love</td>\n",
       "    </tr>\n",
       "    <tr>\n",
       "      <th>25219</th>\n",
       "      <td>i feel a perverse need to make you scroll anyway</td>\n",
       "      <td>sadness</td>\n",
       "    </tr>\n",
       "    <tr>\n",
       "      <th>98765</th>\n",
       "      <td>i wanted her to feel the love and freedom with...</td>\n",
       "      <td>sadness</td>\n",
       "    </tr>\n",
       "    <tr>\n",
       "      <th>107365</th>\n",
       "      <td>i sincerely believe that every client celebrit...</td>\n",
       "      <td>happiness</td>\n",
       "    </tr>\n",
       "    <tr>\n",
       "      <th>110371</th>\n",
       "      <td>im back at my doctors tomorrow for the results...</td>\n",
       "      <td>sadness</td>\n",
       "    </tr>\n",
       "  </tbody>\n",
       "</table>\n",
       "</div>"
      ],
      "text/plain": [
       "                                                     text   emotions\n",
       "30157   i was upset most of the time during my birthda...       love\n",
       "25219    i feel a perverse need to make you scroll anyway    sadness\n",
       "98765   i wanted her to feel the love and freedom with...    sadness\n",
       "107365  i sincerely believe that every client celebrit...  happiness\n",
       "110371  im back at my doctors tomorrow for the results...    sadness"
      ]
     },
     "execution_count": 2,
     "metadata": {},
     "output_type": "execute_result"
    }
   ],
   "source": [
    "import numpy as np \n",
    "from sklearn.preprocessing import OneHotEncoder\n",
    "from keras.models import Sequential\n",
    "from keras.layers import Dense, LSTM, Dropout\n",
    "import pandas as pd\n",
    "import joblib\n",
    "import pickle \n",
    "\n",
    "directory = \"TextDataset/merged_training.pkl\"\n",
    "df = pickle.load(open(directory,\"rb\"))\n",
    "df['emotions'] = df['emotions'].replace({'joy': 'happiness'}, regex=True)\n",
    "df = df[:2000]\n",
    "df = df.sample(frac = 1)\n",
    "df.head()"
   ]
  },
  {
   "cell_type": "markdown",
   "id": "adf7f655",
   "metadata": {},
   "source": [
    "## Feature extraction using tfid vectorizer (Change text to numbers)"
   ]
  },
  {
   "cell_type": "code",
   "execution_count": 12,
   "id": "e49f1d0d",
   "metadata": {},
   "outputs": [
    {
     "data": {
      "text/plain": [
       "(2000, 4811)"
      ]
     },
     "execution_count": 12,
     "metadata": {},
     "output_type": "execute_result"
    }
   ],
   "source": [
    "from sklearn.feature_extraction.text import TfidfVectorizer\n",
    "# feature extraction\n",
    "vect = TfidfVectorizer(max_df=0.9)\n",
    "xfeat = vect.fit_transform(df['text'])\n",
    "x = xfeat.toarray()\n",
    "x = np.array(x)\n",
    "featcount = x.shape[1]\n",
    "x.shape"
   ]
  },
  {
   "cell_type": "markdown",
   "id": "6e0e8f07",
   "metadata": {},
   "source": [
    "## Split the vectorized data and labels into train and test groups"
   ]
  },
  {
   "cell_type": "code",
   "execution_count": 17,
   "id": "6d5c1510",
   "metadata": {},
   "outputs": [
    {
     "data": {
      "text/plain": [
       "(2000, 1)"
      ]
     },
     "execution_count": 17,
     "metadata": {},
     "output_type": "execute_result"
    }
   ],
   "source": [
    "from sklearn.model_selection import train_test_split\n",
    "emoti = df[['emotions']]\n",
    "X_train,X_test,y_train,y_test = train_test_split(x, emoti.values, test_size=0.3)\n",
    "X_train.shape"
   ]
  },
  {
   "cell_type": "markdown",
   "id": "cdfed075",
   "metadata": {},
   "source": [
    "# Run the model on the given X_train and y_train data"
   ]
  },
  {
   "cell_type": "code",
   "execution_count": 23,
   "id": "36ace3ca",
   "metadata": {},
   "outputs": [
    {
     "name": "stderr",
     "output_type": "stream",
     "text": [
      "C:\\Users\\mikae\\AppData\\Local\\Temp/ipykernel_11548/402286639.py:4: DataConversionWarning: A column-vector y was passed when a 1d array was expected. Please change the shape of y to (n_samples,), for example using ravel().\n",
      "  clf.fit(X_train, y_train)\n"
     ]
    },
    {
     "data": {
      "text/plain": [
       "RandomForestClassifier(n_estimators=500, n_jobs=-1)"
      ]
     },
     "execution_count": 23,
     "metadata": {},
     "output_type": "execute_result"
    }
   ],
   "source": [
    "from sklearn.ensemble import RandomForestClassifier\n",
    "\n",
    "clf = RandomForestClassifier(n_estimators=500, n_jobs=-1)\n",
    "clf.fit(X_train, y_train)"
   ]
  },
  {
   "cell_type": "markdown",
   "id": "64d20d7e",
   "metadata": {},
   "source": [
    "## Check model performance using different metrics\n",
    "### classification report"
   ]
  },
  {
   "cell_type": "code",
   "execution_count": 25,
   "id": "fa9ccbea",
   "metadata": {},
   "outputs": [
    {
     "name": "stdout",
     "output_type": "stream",
     "text": [
      "              precision    recall  f1-score   support\n",
      "\n",
      "       anger       0.90      0.83      0.87      2293\n",
      "        fear       0.84      0.82      0.83      1863\n",
      "   happiness       0.84      0.95      0.89      5498\n",
      "        love       0.87      0.66      0.75      1420\n",
      "     sadness       0.92      0.92      0.92      4806\n",
      "    surprise       0.81      0.67      0.73       620\n",
      "\n",
      "    accuracy                           0.87     16500\n",
      "   macro avg       0.86      0.81      0.83     16500\n",
      "weighted avg       0.87      0.87      0.87     16500\n",
      "\n"
     ]
    }
   ],
   "source": [
    "from sklearn.metrics import accuracy_score, confusion_matrix, classification_report\n",
    "\n",
    "print(classification_report(y_test, clf.predict(X_test)))"
   ]
  },
  {
   "cell_type": "markdown",
   "id": "f03e07db",
   "metadata": {},
   "source": [
    "### Confusion matrix"
   ]
  },
  {
   "cell_type": "code",
   "execution_count": 32,
   "id": "f469e710",
   "metadata": {},
   "outputs": [
    {
     "data": {
      "image/png": "[encoded data removed]",
      "text/plain": [
       "<Figure size 432x288 with 2 Axes>"
      ]
     },
     "metadata": {
      "needs_background": "light"
     },
     "output_type": "display_data"
    }
   ],
   "source": [
    "import matplotlib.pyplot as plt\n",
    "from sklearn.metrics import plot_confusion_matrix\n",
    "plot_confusion_matrix(clf, X_test, y_test)  \n",
    "plt.show()"
   ]
  },
  {
   "cell_type": "markdown",
   "id": "d7435fa4",
   "metadata": {},
   "source": [
    "## Test any sentence you want against the model by putting it into vect.transform([])\n",
    "### clf.predict() will return the predicted label"
   ]
  },
  {
   "cell_type": "code",
   "execution_count": 28,
   "id": "9746ba9e",
   "metadata": {},
   "outputs": [
    {
     "data": {
      "text/plain": [
       "array(['sadness'], dtype=object)"
      ]
     },
     "execution_count": 28,
     "metadata": {},
     "output_type": "execute_result"
    }
   ],
   "source": [
    "testfeat = vect.transform([''])\n",
    "\n",
    "clf.predict(testfeat)\n"
   ]
  },
  {
   "cell_type": "markdown",
   "id": "b93784c7",
   "metadata": {},
   "source": [
    "## Save model and vectorizer if happy with performance"
   ]
  },
  {
   "cell_type": "code",
   "execution_count": 33,
   "id": "01635ed1",
   "metadata": {},
   "outputs": [
    {
     "data": {
      "text/plain": [
       "['Models/TextModel.joblib']"
      ]
     },
     "execution_count": 33,
     "metadata": {},
     "output_type": "execute_result"
    }
   ],
   "source": [
    "file = open('Objects/vectorizer.obj', 'wb') \n",
    "pickle.dump(vect, file)\n",
    "joblib.dump(clf, \"Models/TextModel.joblib\")"
   ]
  },
  {
   "cell_type": "markdown",
   "id": "97a7fb85",
   "metadata": {},
   "source": [
    "### Load the saved model and vectorizer for use again without having to create and train a new model/vectorizer"
   ]
  },
  {
   "cell_type": "code",
   "execution_count": 11,
   "id": "0d7f9a0f",
   "metadata": {},
   "outputs": [
    {
     "data": {
      "text/plain": [
       "array(['anger'], dtype=object)"
      ]
     },
     "execution_count": 11,
     "metadata": {},
     "output_type": "execute_result"
    }
   ],
   "source": [
    "loaded_clf = joblib.load(\"Models/TextModel.joblib\")\n",
    "file_to_read = open(\"Objects/vectorizer.obj\", \"rb\")\n",
    "vect = pickle.load(file_to_read)"
   ]
  },
  {
   "cell_type": "markdown",
   "id": "b602ee7f",
   "metadata": {},
   "source": [
    "### Run a prediction on the loaded model and vectorizer to make sure they saved and work"
   ]
  },
  {
   "cell_type": "code",
   "execution_count": 13,
   "id": "4f23ae56",
   "metadata": {},
   "outputs": [
    {
     "data": {
      "text/plain": [
       "array(['anger'], dtype=object)"
      ]
     },
     "execution_count": 13,
     "metadata": {},
     "output_type": "execute_result"
    }
   ],
   "source": [
    "testfeat = vect.transform(['It makes me really angry when I have to do this'])\n",
    "\n",
    "loaded_clf.predict(testfeat)"
   ]
  }
 ],
 "metadata": {
  "kernelspec": {
   "display_name": "Python 3 (ipykernel)",
   "language": "python",
   "name": "python3"
  },
  "language_info": {
   "codemirror_mode": {
    "name": "ipython",
    "version": 3
   },
   "file_extension": ".py",
   "mimetype": "text/x-python",
   "name": "python",
   "nbconvert_exporter": "python",
   "pygments_lexer": "ipython3",
   "version": "3.9.7"
  }
 },
 "nbformat": 4,
 "nbformat_minor": 5
}
